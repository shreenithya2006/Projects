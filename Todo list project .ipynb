{
 "cells": [
  {
   "cell_type": "code",
   "execution_count": 1,
   "id": "52674955-2b06-4eda-a914-b62a2ea26f6d",
   "metadata": {},
   "outputs": [
    {
     "name": "stdout",
     "output_type": "stream",
     "text": [
      "Welcome to the To-Do List Application!\n",
      "\n",
      "1. Register\n",
      "2. Login\n",
      "3. Exit\n"
     ]
    },
    {
     "name": "stdin",
     "output_type": "stream",
     "text": [
      "Choose an option:  1\n",
      "Enter username:  Sandarya\n",
      "Enter password:  ········\n"
     ]
    },
    {
     "name": "stdout",
     "output_type": "stream",
     "text": [
      "User registered successfully!\n",
      "\n",
      "1. Register\n",
      "2. Login\n",
      "3. Exit\n"
     ]
    },
    {
     "name": "stdin",
     "output_type": "stream",
     "text": [
      "Choose an option:  2\n",
      "Enter username:  sandarya\n",
      "Enter password:  ········\n"
     ]
    },
    {
     "name": "stdout",
     "output_type": "stream",
     "text": [
      "Welcome sandarya!\n",
      "\n",
      "1. Add Task\n",
      "2. Update Task\n",
      "3. Delete Task\n",
      "4. Mark Task as Completed\n",
      "5. View Pending Tasks\n",
      "6. View Completed Tasks\n",
      "7. View All Tasks\n",
      "8. Logout\n"
     ]
    },
    {
     "name": "stdin",
     "output_type": "stream",
     "text": [
      "Choose an action:  1\n",
      "Enter task description:  work\n"
     ]
    },
    {
     "name": "stdout",
     "output_type": "stream",
     "text": [
      "Task added successfully!\n",
      "\n",
      "1. Add Task\n",
      "2. Update Task\n",
      "3. Delete Task\n",
      "4. Mark Task as Completed\n",
      "5. View Pending Tasks\n",
      "6. View Completed Tasks\n",
      "7. View All Tasks\n",
      "8. Logout\n"
     ]
    },
    {
     "name": "stdin",
     "output_type": "stream",
     "text": [
      "Choose an action:  2\n",
      "Enter task ID to update:  1\n"
     ]
    },
    {
     "name": "stdout",
     "output_type": "stream",
     "text": [
      "Task not found.\n",
      "\n",
      "1. Add Task\n",
      "2. Update Task\n",
      "3. Delete Task\n",
      "4. Mark Task as Completed\n",
      "5. View Pending Tasks\n",
      "6. View Completed Tasks\n",
      "7. View All Tasks\n",
      "8. Logout\n"
     ]
    },
    {
     "name": "stdin",
     "output_type": "stream",
     "text": [
      "Choose an action:  8\n"
     ]
    },
    {
     "name": "stdout",
     "output_type": "stream",
     "text": [
      "Logging out...\n",
      "\n",
      "1. Register\n",
      "2. Login\n",
      "3. Exit\n"
     ]
    },
    {
     "name": "stdin",
     "output_type": "stream",
     "text": [
      "Choose an option:  3\n"
     ]
    },
    {
     "name": "stdout",
     "output_type": "stream",
     "text": [
      "Exiting the application.\n"
     ]
    }
   ],
   "source": [
    "import mysql.connector\n",
    "from getpass import getpass\n",
    "\n",
    "# Establish a connection to MySQL\n",
    "db = mysql.connector.connect(\n",
    "    host=\"localhost\",\n",
    "    user=\"root\",  # Replace with your MySQL username\n",
    "    password=\"12345\",  # Replace with your MySQL password\n",
    "    database=\"todo_list\"\n",
    ")\n",
    "\n",
    "cursor = db.cursor()\n",
    "\n",
    "# Function to register a new user\n",
    "def register():\n",
    "    username = input(\"Enter username: \")\n",
    "    password = getpass(\"Enter password: \")\n",
    "\n",
    "    cursor.execute(\"SELECT * FROM users WHERE username = %s\", (username,))\n",
    "    user = cursor.fetchone()\n",
    "\n",
    "    if user:\n",
    "        print(\"Username already exists!\")\n",
    "    else:\n",
    "        cursor.execute(\"INSERT INTO users (username, password) VALUES (%s, %s)\", (username, password))\n",
    "        db.commit()\n",
    "        print(\"User registered successfully!\")\n",
    "\n",
    "# Function to log in a user\n",
    "def login():\n",
    "    username = input(\"Enter username: \")\n",
    "    password = getpass(\"Enter password: \")\n",
    "\n",
    "    cursor.execute(\"SELECT * FROM users WHERE username = %s AND password = %s\", (username, password))\n",
    "    user = cursor.fetchone()\n",
    "\n",
    "    if user:\n",
    "        print(f\"Welcome {username}!\")\n",
    "        return user[0]  # Return user ID for further actions\n",
    "    else:\n",
    "        print(\"Invalid credentials.\")\n",
    "        return None\n",
    "\n",
    "# Function to add a new task\n",
    "def add_task(user_id):\n",
    "    task_description = input(\"Enter task description: \")\n",
    "    cursor.execute(\"INSERT INTO tasks (user_id, task_description) VALUES (%s, %s)\", (user_id, task_description))\n",
    "    db.commit()\n",
    "    print(\"Task added successfully!\")\n",
    "\n",
    "# Function to update a task\n",
    "def update_task(user_id):\n",
    "    task_id = int(input(\"Enter task ID to update: \"))\n",
    "    cursor.execute(\"SELECT * FROM tasks WHERE id = %s AND user_id = %s\", (task_id, user_id))\n",
    "    task = cursor.fetchone()\n",
    "\n",
    "    if task:\n",
    "        new_description = input(\"Enter new task description: \")\n",
    "        cursor.execute(\"UPDATE tasks SET task_description = %s WHERE id = %s\", (new_description, task_id))\n",
    "        db.commit()\n",
    "        print(\"Task updated successfully!\")\n",
    "    else:\n",
    "        print(\"Task not found.\")\n",
    "\n",
    "# Function to delete a task\n",
    "def delete_task(user_id):\n",
    "    task_id = int(input(\"Enter task ID to delete: \"))\n",
    "    cursor.execute(\"SELECT * FROM tasks WHERE id = %s AND user_id = %s\", (task_id, user_id))\n",
    "    task = cursor.fetchone()\n",
    "\n",
    "    if task:\n",
    "        cursor.execute(\"DELETE FROM tasks WHERE id = %s\", (task_id,))\n",
    "        db.commit()\n",
    "        print(\"Task deleted successfully!\")\n",
    "    else:\n",
    "        print(\"Task not found.\")\n",
    "\n",
    "# Function to mark a task as completed\n",
    "def complete_task(user_id):\n",
    "    task_id = int(input(\"Enter task ID to mark as completed: \"))\n",
    "    cursor.execute(\"SELECT * FROM tasks WHERE id = %s AND user_id = %s\", (task_id, user_id))\n",
    "    task = cursor.fetchone()\n",
    "\n",
    "    if task:\n",
    "        cursor.execute(\"UPDATE tasks SET status = 'completed' WHERE id = %s\", (task_id,))\n",
    "        db.commit()\n",
    "        print(\"Task marked as completed!\")\n",
    "    else:\n",
    "        print(\"Task not found.\")\n",
    "\n",
    "# Function to view all tasks (completed or pending)\n",
    "def view_tasks(user_id, status=None):\n",
    "    if status:\n",
    "        cursor.execute(\"SELECT * FROM tasks WHERE user_id = %s AND status = %s\", (user_id, status))\n",
    "    else:\n",
    "        cursor.execute(\"SELECT * FROM tasks WHERE user_id = %s\", (user_id,))\n",
    "\n",
    "    tasks = cursor.fetchall()\n",
    "\n",
    "    if tasks:\n",
    "        for task in tasks:\n",
    "            print(f\"ID: {task[0]} | Description: {task[2]} | Status: {task[3]} | Created: {task[4]}\")\n",
    "    else:\n",
    "        print(\"No tasks found.\")\n",
    "\n",
    "# Main function to display the menu\n",
    "def main():\n",
    "    print(\"Welcome to the To-Do List Application!\")\n",
    "    while True:\n",
    "        print(\"\\n1. Register\")\n",
    "        print(\"2. Login\")\n",
    "        print(\"3. Exit\")\n",
    "        choice = input(\"Choose an option: \")\n",
    "\n",
    "        if choice == '1':\n",
    "            register()\n",
    "        elif choice == '2':\n",
    "            user_id = login()\n",
    "            if user_id:\n",
    "                while True:\n",
    "                    print(\"\\n1. Add Task\")\n",
    "                    print(\"2. Update Task\")\n",
    "                    print(\"3. Delete Task\")\n",
    "                    print(\"4. Mark Task as Completed\")\n",
    "                    print(\"5. View Pending Tasks\")\n",
    "                    print(\"6. View Completed Tasks\")\n",
    "                    print(\"7. View All Tasks\")\n",
    "                    print(\"8. Logout\")\n",
    "                    action = input(\"Choose an action: \")\n",
    "\n",
    "                    if action == '1':\n",
    "                        add_task(user_id)\n",
    "                    elif action == '2':\n",
    "                        update_task(user_id)\n",
    "                    elif action == '3':\n",
    "                        delete_task(user_id)\n",
    "                    elif action == '4':\n",
    "                        complete_task(user_id)\n",
    "                    elif action == '5':\n",
    "                        view_tasks(user_id, status='pending')\n",
    "                    elif action == '6':\n",
    "                        view_tasks(user_id, status='completed')\n",
    "                    elif action == '7':\n",
    "                        view_tasks(user_id)\n",
    "                    elif action == '8':\n",
    "                        print(\"Logging out...\")\n",
    "                        break\n",
    "                    else:\n",
    "                        print(\"Invalid action.\")\n",
    "        elif choice == '3':\n",
    "            print(\"Exiting the application.\")\n",
    "            break\n",
    "        else:\n",
    "            print(\"Invalid option. Try again.\")\n",
    "\n",
    "if __name__ == \"__main__\":\n",
    "    main()\n"
   ]
  },
  {
   "cell_type": "code",
   "execution_count": null,
   "id": "c5b790ff-6358-47be-8fa1-b7f6c3ad242a",
   "metadata": {},
   "outputs": [],
   "source": []
  }
 ],
 "metadata": {
  "kernelspec": {
   "display_name": "Python 3 (ipykernel)",
   "language": "python",
   "name": "python3"
  },
  "language_info": {
   "codemirror_mode": {
    "name": "ipython",
    "version": 3
   },
   "file_extension": ".py",
   "mimetype": "text/x-python",
   "name": "python",
   "nbconvert_exporter": "python",
   "pygments_lexer": "ipython3",
   "version": "3.12.7"
  }
 },
 "nbformat": 4,
 "nbformat_minor": 5
}
